{
  "nbformat": 4,
  "nbformat_minor": 0,
  "metadata": {
    "colab": {
      "provenance": [],
      "authorship_tag": "ABX9TyMVrqaYdHEDmWI93iosemPH"
    },
    "kernelspec": {
      "name": "python3",
      "display_name": "Python 3"
    },
    "language_info": {
      "name": "python"
    }
  },
  "cells": [
    {
      "cell_type": "code",
      "execution_count": null,
      "metadata": {
        "id": "picf_RP12Ajd"
      },
      "outputs": [],
      "source": [
        "# La primera de FizzBuzz\n",
        "def FizzBuzz(x):\n",
        "  if x%3 ==0 and not (x%5==0):\n",
        "    return \"Fizz!\"\n",
        "  elif x%5 ==0 and not (x%3==0):\n",
        "    return \"Buzz!\"\n",
        "  elif x%5==0 and x%3==0:\n",
        "    return \"FizzBuzz!\"\n",
        "  else:\n",
        "    return \"...\""
      ]
    },
    {
      "cell_type": "code",
      "source": [
        "# La segunda de lista FizzBuzz\n",
        "def FizzBuzzList(n):\n",
        "    answer = []\n",
        "    for i in range(n):\n",
        "      answer.append(FizzBuzz(i+1))\n",
        "    return answer"
      ],
      "metadata": {
        "id": "0kUFqH2R2Kkp"
      },
      "execution_count": null,
      "outputs": []
    },
    {
      "cell_type": "code",
      "source": [
        "# La tercera de desviación estándar\n",
        "import numpy as np\n",
        "\n",
        "def standarize(X):\n",
        "  X_standarized = (X-X.mean())/X.std()# only one line of code\n",
        "  return X_standarized"
      ],
      "metadata": {
        "id": "iLwoIBOC2PJQ"
      },
      "execution_count": null,
      "outputs": []
    },
    {
      "cell_type": "code",
      "source": [
        "# La cuarta de la diagonal de matrices\n",
        "import numpy as np\n",
        "\n",
        "def main_diagonal_matrix(A):\n",
        "  D = np.diag(np.diag(A)).astype(float)# only one line of code\n",
        "  return D"
      ],
      "metadata": {
        "id": "PYR9rJS82UsQ"
      },
      "execution_count": null,
      "outputs": []
    }
  ]
}